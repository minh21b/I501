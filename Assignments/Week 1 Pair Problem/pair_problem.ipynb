{
 "cells": [
  {
   "cell_type": "code",
   "execution_count": 2,
   "id": "029e1c1b-9103-4885-9c8d-dccf05b2236b",
   "metadata": {},
   "outputs": [
    {
     "name": "stdout",
     "output_type": "stream",
     "text": [
      "# conda environments:\n",
      "#\n",
      "                         C:\\ProgramData\\miniconda3\n",
      "base                  *  C:\\Users\\Minh\\anaconda3\n",
      "i501                     C:\\Users\\Minh\\anaconda3\\envs\\i501\n",
      "rstudio                  C:\\Users\\Minh\\anaconda3\\envs\\rstudio\n",
      "                         C:\\Users\\Minh\\miniconda3\n",
      "\n"
     ]
    }
   ],
   "source": [
    "!conda env list"
   ]
  }
 ],
 "metadata": {
  "kernelspec": {
   "display_name": "i501",
   "language": "python",
   "name": "i501"
  },
  "language_info": {
   "codemirror_mode": {
    "name": "ipython",
    "version": 3
   },
   "file_extension": ".py",
   "mimetype": "text/x-python",
   "name": "python",
   "nbconvert_exporter": "python",
   "pygments_lexer": "ipython3",
   "version": "3.10.13"
  }
 },
 "nbformat": 4,
 "nbformat_minor": 5
}
